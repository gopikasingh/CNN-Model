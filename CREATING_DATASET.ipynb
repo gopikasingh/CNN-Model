{
  "nbformat": 4,
  "nbformat_minor": 0,
  "metadata": {
    "kernelspec": {
      "display_name": "Python 3",
      "language": "python",
      "name": "python3"
    },
    "language_info": {
      "codemirror_mode": {
        "name": "ipython",
        "version": 3
      },
      "file_extension": ".py",
      "mimetype": "text/x-python",
      "name": "python",
      "nbconvert_exporter": "python",
      "pygments_lexer": "ipython3",
      "version": "3.7.3"
    },
    "colab": {
      "name": "CREATING DATASET.ipynb",
      "provenance": [],
      "include_colab_link": true
    }
  },
  "cells": [
    {
      "cell_type": "markdown",
      "metadata": {
        "id": "view-in-github",
        "colab_type": "text"
      },
      "source": [
        "<a href=\"https://colab.research.google.com/github/gopikasingh/CNN-Model/blob/main/CREATING_DATASET.ipynb\" target=\"_parent\"><img src=\"https://colab.research.google.com/assets/colab-badge.svg\" alt=\"Open In Colab\"/></a>"
      ]
    },
    {
      "cell_type": "code",
      "metadata": {
        "colab": {
          "base_uri": "https://localhost:8080/"
        },
        "id": "LeIWD96DK4vw",
        "outputId": "fa002bfe-4472-46a0-8785-f31e5d5e2a31"
      },
      "source": [
        "import numpy as np\n",
        "import matplotlib.pyplot as plt\n",
        "import os\n",
        "\n",
        "!pip install opencv-python\n",
        "import cv2\n",
        "from tqdm import tqdm"
      ],
      "execution_count": 28,
      "outputs": [
        {
          "output_type": "stream",
          "name": "stdout",
          "text": [
            "shell-init: error retrieving current directory: getcwd: cannot access parent directories: No such file or directory\n",
            "shell-init: error retrieving current directory: getcwd: cannot access parent directories: No such file or directory\n",
            "The folder you are executing pip from can no longer be found.\n"
          ]
        }
      ]
    },
    {
      "cell_type": "code",
      "metadata": {
        "colab": {
          "base_uri": "https://localhost:8080/"
        },
        "id": "GvOhwWJ8Nl2O",
        "outputId": "ddccff97-d74e-4658-b7dd-343e3d9fafd2"
      },
      "source": [
        "from google.colab import drive\n",
        "drive.mount(\"/content/gdrive\")"
      ],
      "execution_count": 29,
      "outputs": [
        {
          "output_type": "stream",
          "name": "stdout",
          "text": [
            "Drive already mounted at /content/gdrive; to attempt to forcibly remount, call drive.mount(\"/content/gdrive\", force_remount=True).\n"
          ]
        }
      ]
    },
    {
      "cell_type": "code",
      "metadata": {
        "colab": {
          "base_uri": "https://localhost:8080/"
        },
        "id": "QFUoLpQwOART",
        "outputId": "3317c52d-e174-4d81-8576-a16c0432b5a3"
      },
      "source": [
        "import os\n",
        "import sys\n",
        "os.chdir('/content/gdrive/My Drive/AI ML ')\n",
        "!pwd\n",
        "Root_DIR = os.path.abspath(\"\")\n",
        "print(Root_DIR)\n",
        "sys.path.append(Root_DIR)"
      ],
      "execution_count": 30,
      "outputs": [
        {
          "output_type": "stream",
          "name": "stdout",
          "text": [
            "/content/gdrive/.shortcut-targets-by-id/1SubdptR2K_xSjz4kDT6vPp2JHEdOeOTD/AI ML \n",
            "/content/gdrive/.shortcut-targets-by-id/1SubdptR2K_xSjz4kDT6vPp2JHEdOeOTD/AI ML \n"
          ]
        }
      ]
    },
    {
      "cell_type": "code",
      "metadata": {
        "id": "MOFpKpzJK4v3"
      },
      "source": [
        "DATADIR = '/content/gdrive/My Drive/AI ML '\n",
        "\n",
        "CATEGORIES = [\"ANGRY\", \"HEARTEYES\", \"LAUGH\", \"NEUTRAL\", \"SAD\", \"SMILING\", \"TEASING\", \"WINK\"]"
      ],
      "execution_count": 31,
      "outputs": []
    },
    {
      "cell_type": "code",
      "metadata": {
        "colab": {
          "base_uri": "https://localhost:8080/",
          "height": 269
        },
        "id": "2HpZU0r1K4v4",
        "outputId": "353c57a5-12ce-4d47-8811-f10718e5aa8f"
      },
      "source": [
        "for category in CATEGORIES:\n",
        "    path = os.path.join(DATADIR,category)\n",
        "    for img in os.listdir(path):  # iterating over each image folder\n",
        "        img_array = cv2.imread(os.path.join(path,img) ,cv2.IMREAD_GRAYSCALE)  # convert to array\n",
        "        plt.imshow(img_array, cmap='gray')\n",
        "        plt.show()\n",
        "\n",
        "        break\n",
        "    break"
      ],
      "execution_count": 32,
      "outputs": [
        {
          "output_type": "display_data",
          "data": {
            "image/png": "[encoded data removed]",
            "text/plain": [
              "<Figure size 432x288 with 1 Axes>"
            ]
          },
          "metadata": {
            "needs_background": "light"
          }
        }
      ]
    },
    {
      "cell_type": "code",
      "metadata": {
        "colab": {
          "base_uri": "https://localhost:8080/"
        },
        "id": "DuIk9Th0K4v5",
        "outputId": "5e5a3a0d-5861-4302-ae4d-8e537a8625cb"
      },
      "source": [
        "print(img_array)"
      ],
      "execution_count": 33,
      "outputs": [
        {
          "output_type": "stream",
          "name": "stdout",
          "text": [
            "[[255 255 255 ... 255 255 255]\n",
            " [255 255 255 ... 255 255 255]\n",
            " [255 255 255 ... 255 255 255]\n",
            " ...\n",
            " [255 255 255 ... 255 255 255]\n",
            " [255 255 255 ... 255 255 255]\n",
            " [255 255 255 ... 255 255 255]]\n"
          ]
        }
      ]
    },
    {
      "cell_type": "code",
      "metadata": {
        "colab": {
          "base_uri": "https://localhost:8080/"
        },
        "id": "vXte9wuuK4v5",
        "outputId": "61354a27-7137-4627-f098-69f9fa82e510"
      },
      "source": [
        "print(img_array.shape)"
      ],
      "execution_count": 34,
      "outputs": [
        {
          "output_type": "stream",
          "name": "stdout",
          "text": [
            "(2700, 2700)\n"
          ]
        }
      ]
    },
    {
      "cell_type": "code",
      "metadata": {
        "colab": {
          "base_uri": "https://localhost:8080/",
          "height": 269
        },
        "id": "myVAKUE3K4v6",
        "outputId": "6b4618c9-71ef-449a-a65f-cfd2d895d53e"
      },
      "source": [
        "IMG_SIZE = 150\n",
        "\n",
        "new_array = cv2.resize(img_array, (IMG_SIZE, IMG_SIZE))\n",
        "plt.imshow(new_array, cmap='gray')\n",
        "plt.show()"
      ],
      "execution_count": 35,
      "outputs": [
        {
          "output_type": "display_data",
          "data": {
            "image/png": "[encoded data removed]",
            "text/plain": [
              "<Figure size 432x288 with 1 Axes>"
            ]
          },
          "metadata": {
            "needs_background": "light"
          }
        }
      ]
    },
    {
      "cell_type": "code",
      "metadata": {
        "colab": {
          "base_uri": "https://localhost:8080/"
        },
        "id": "xXcA7aSSK4v7",
        "outputId": "89420e59-5bc1-470e-fc5b-909670959627"
      },
      "source": [
        "training_data = []\n",
        "\n",
        "def create_training_data():\n",
        "    for category in CATEGORIES:\n",
        "        path = os.path.join(DATADIR,category)\n",
        "        class_num = CATEGORIES.index(category)  # get the classification (0 to 7)\n",
        "\n",
        "        for img in tqdm(os.listdir(path)):\n",
        "            try:\n",
        "                img_array = cv2.imread(os.path.join(path,img) ,cv2.IMREAD_GRAYSCALE)\n",
        "                new_array = cv2.resize(img_array, (IMG_SIZE, IMG_SIZE))  # resizing to normalize data size\n",
        "                training_data.append([new_array, class_num])\n",
        "            except Exception as e:\n",
        "                pass\n",
        "create_training_data()\n",
        "\n",
        "print(len(training_data))"
      ],
      "execution_count": 36,
      "outputs": [
        {
          "output_type": "stream",
          "name": "stderr",
          "text": [
            "100%|██████████| 199/199 [00:09<00:00, 20.48it/s]\n",
            "100%|██████████| 244/244 [00:11<00:00, 21.73it/s] \n",
            "100%|██████████| 250/250 [00:16<00:00, 14.98it/s]\n",
            "100%|██████████| 265/265 [00:14<00:00, 17.67it/s]\n",
            "100%|██████████| 277/277 [00:15<00:00, 18.15it/s]\n",
            "100%|██████████| 248/248 [00:14<00:00, 16.86it/s]\n",
            "100%|██████████| 228/228 [00:10<00:00, 22.09it/s] \n",
            "100%|██████████| 292/292 [00:16<00:00, 17.39it/s]"
          ]
        },
        {
          "output_type": "stream",
          "name": "stdout",
          "text": [
            "2003\n"
          ]
        },
        {
          "output_type": "stream",
          "name": "stderr",
          "text": [
            "\n"
          ]
        }
      ]
    },
    {
      "cell_type": "code",
      "metadata": {
        "id": "n0JGoiWeK4v8"
      },
      "source": [
        "import random\n",
        "\n",
        "random.shuffle(training_data)"
      ],
      "execution_count": 37,
      "outputs": []
    },
    {
      "cell_type": "code",
      "metadata": {
        "colab": {
          "base_uri": "https://localhost:8080/"
        },
        "id": "TZ8-wv8pK4v9",
        "outputId": "887409ba-81c0-49be-db95-324c6dbd3518"
      },
      "source": [
        "for sample in training_data[:20]:\n",
        "    print(sample[1])"
      ],
      "execution_count": 38,
      "outputs": [
        {
          "output_type": "stream",
          "name": "stdout",
          "text": [
            "1\n",
            "6\n",
            "3\n",
            "7\n",
            "4\n",
            "4\n",
            "2\n",
            "0\n",
            "5\n",
            "0\n",
            "5\n",
            "0\n",
            "4\n",
            "7\n",
            "2\n",
            "0\n",
            "4\n",
            "3\n",
            "7\n",
            "2\n"
          ]
        }
      ]
    },
    {
      "cell_type": "code",
      "metadata": {
        "colab": {
          "base_uri": "https://localhost:8080/"
        },
        "id": "k_gaNFEjK4v-",
        "outputId": "7e1984c8-1f5b-47eb-bcd0-39e0c73c3596"
      },
      "source": [
        "X = []\n",
        "y = []\n",
        "\n",
        "for features,label in training_data:\n",
        "    X.append(features)\n",
        "    y.append(label)\n",
        "\n",
        "print(X[0].reshape(-1, IMG_SIZE, IMG_SIZE, 1))\n",
        "\n",
        "X = np.array(X).reshape(-1, IMG_SIZE, IMG_SIZE, 1)   #CHANGE THE CHANNEL '1' TO '3' FOR RGB IMAGES"
      ],
      "execution_count": 39,
      "outputs": [
        {
          "output_type": "stream",
          "name": "stdout",
          "text": [
            "[[[[168]\n",
            "   [167]\n",
            "   [167]\n",
            "   ...\n",
            "   [167]\n",
            "   [168]\n",
            "   [167]]\n",
            "\n",
            "  [[168]\n",
            "   [167]\n",
            "   [165]\n",
            "   ...\n",
            "   [166]\n",
            "   [167]\n",
            "   [166]]\n",
            "\n",
            "  [[169]\n",
            "   [166]\n",
            "   [167]\n",
            "   ...\n",
            "   [165]\n",
            "   [166]\n",
            "   [168]]\n",
            "\n",
            "  ...\n",
            "\n",
            "  [[169]\n",
            "   [169]\n",
            "   [167]\n",
            "   ...\n",
            "   [170]\n",
            "   [168]\n",
            "   [168]]\n",
            "\n",
            "  [[168]\n",
            "   [168]\n",
            "   [168]\n",
            "   ...\n",
            "   [170]\n",
            "   [162]\n",
            "   [165]]\n",
            "\n",
            "  [[166]\n",
            "   [167]\n",
            "   [166]\n",
            "   ...\n",
            "   [168]\n",
            "   [163]\n",
            "   [166]]]]\n"
          ]
        }
      ]
    },
    {
      "cell_type": "code",
      "metadata": {
        "id": "Nj7EIVS9K4v_"
      },
      "source": [
        "import pickle\n",
        "\n",
        "pickle_out = open(\"X.pickle\",\"wb\")\n",
        "pickle.dump(X, pickle_out)\n",
        "pickle_out.close()\n",
        "\n",
        "pickle_out = open(\"y.pickle\",\"wb\")\n",
        "pickle.dump(y, pickle_out)\n",
        "pickle_out.close()"
      ],
      "execution_count": 40,
      "outputs": []
    },
    {
      "cell_type": "code",
      "metadata": {
        "id": "Nwqyke_pK4wA"
      },
      "source": [
        "pickle_in = open(\"X.pickle\",\"rb\")\n",
        "X = pickle.load(pickle_in)\n",
        "\n",
        "\n",
        "pickle_in = open(\"y.pickle\",\"rb\")\n",
        "y = pickle.load(pickle_in)"
      ],
      "execution_count": 41,
      "outputs": []
    }
  ]
}